{
 "cells": [
  {
   "cell_type": "code",
   "id": "initial_id",
   "metadata": {
    "collapsed": true,
    "ExecuteTime": {
     "end_time": "2025-08-13T14:32:59.558345Z",
     "start_time": "2025-08-13T14:32:58.996754Z"
    }
   },
   "source": "import numpy as np",
   "outputs": [],
   "execution_count": 1
  },
  {
   "metadata": {
    "ExecuteTime": {
     "end_time": "2025-08-13T14:33:53.047287Z",
     "start_time": "2025-08-13T14:33:53.042578Z"
    }
   },
   "cell_type": "code",
   "source": [
    "x = np.array([1.0, 2.0, 3.0])\n",
    "\n",
    "print(x)\n",
    "\n",
    "type(x)"
   ],
   "id": "ed13beed7f7abbec",
   "outputs": [
    {
     "name": "stdout",
     "output_type": "stream",
     "text": [
      "[1. 2. 3.]\n"
     ]
    },
    {
     "data": {
      "text/plain": [
       "numpy.ndarray"
      ]
     },
     "execution_count": 3,
     "metadata": {},
     "output_type": "execute_result"
    }
   ],
   "execution_count": 3
  },
  {
   "metadata": {
    "ExecuteTime": {
     "end_time": "2025-08-13T14:36:36.439243Z",
     "start_time": "2025-08-13T14:36:36.434645Z"
    }
   },
   "cell_type": "code",
   "source": [
    "x = np.array([1.0, 2.0, 3.0])\n",
    "y = np.array([2.0, 4.0, 6.0])\n",
    "\n",
    "print(x + y)\n",
    "print(x - y)\n",
    "print(x * y)\n",
    "print(x / y)\n",
    "\n",
    "print(x * 3)  # 브로드 캐스트"
   ],
   "id": "a6e2cd457970b3b",
   "outputs": [
    {
     "name": "stdout",
     "output_type": "stream",
     "text": [
      "[3. 6. 9.]\n",
      "[-1. -2. -3.]\n",
      "[ 2.  8. 18.]\n",
      "[0.5 0.5 0.5]\n",
      "[3. 6. 9.]\n"
     ]
    }
   ],
   "execution_count": 7
  },
  {
   "metadata": {
    "ExecuteTime": {
     "end_time": "2025-08-13T14:41:11.332503Z",
     "start_time": "2025-08-13T14:41:11.328506Z"
    }
   },
   "cell_type": "code",
   "source": [
    "A = np.array(\n",
    "    [\n",
    "        [1, 2, 3],\n",
    "        [3, 4, 5]\n",
    "    ]\n",
    ")\n",
    "B = np.array(\n",
    "        [2, 4, 6],\n",
    ")\n",
    "\n",
    "print(A)\n",
    "print(A.shape)\n",
    "print(A.dtype)\n",
    "\n",
    "print(A * B)\n"
   ],
   "id": "23810a64a8863c46",
   "outputs": [
    {
     "name": "stdout",
     "output_type": "stream",
     "text": [
      "[[1 2 3]\n",
      " [3 4 5]]\n",
      "(2, 3)\n",
      "int64\n",
      "[[ 2  8 18]\n",
      " [ 6 16 30]]\n"
     ]
    }
   ],
   "execution_count": 14
  },
  {
   "metadata": {
    "ExecuteTime": {
     "end_time": "2025-08-13T14:44:44.630863Z",
     "start_time": "2025-08-13T14:44:44.627465Z"
    }
   },
   "cell_type": "code",
   "source": [
    "X = np.array([[51, 55], [14, 19], [0, 4]])\n",
    "\n",
    "flat_X = X.flatten()\n",
    "\n",
    "print(flat_X)\n",
    "print(X.flat) # ..?\n",
    "\n",
    "print(flat_X[np.array([0, 2, 4])])"
   ],
   "id": "9dfb94f5bfca86b6",
   "outputs": [
    {
     "name": "stdout",
     "output_type": "stream",
     "text": [
      "[51 55 14 19  0  4]\n",
      "<numpy.flatiter object at 0x104a76000>\n",
      "[51 14  0]\n"
     ]
    }
   ],
   "execution_count": 20
  }
 ],
 "metadata": {
  "kernelspec": {
   "display_name": "Python 3",
   "language": "python",
   "name": "python3"
  },
  "language_info": {
   "codemirror_mode": {
    "name": "ipython",
    "version": 2
   },
   "file_extension": ".py",
   "mimetype": "text/x-python",
   "name": "python",
   "nbconvert_exporter": "python",
   "pygments_lexer": "ipython2",
   "version": "2.7.6"
  }
 },
 "nbformat": 4,
 "nbformat_minor": 5
}
